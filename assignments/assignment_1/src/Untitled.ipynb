{
 "cells": [
  {
   "cell_type": "code",
   "execution_count": null,
   "metadata": {},
   "outputs": [],
   "source": [
    "\n",
    "#-----------------Script------------------\n",
    "\n",
    "# To start of we need to import the 100-english-novels in the data folder of the cds-language github repo.\n",
    "import os, sys\n",
    "import numpy as np \n",
    "import pandas as pd\n",
    "from pathlib import Path\n"
   ]
  },
  {
   "cell_type": "code",
   "execution_count": null,
   "metadata": {},
   "outputs": [],
   "source": [
    "data_path = os.path.join(\"..\", \"data\", \"100_english_novels\", \"corpus\") #path.join lets us set the path for our directory that is being used\n",
    "table = pd.DataFrame(columns = [\"filename\", \"word_count\", \"unique_words\"])"
   ]
  },
  {
   "cell_type": "code",
   "execution_count": null,
   "metadata": {},
   "outputs": [],
   "source": [
    "for filename in Path(data_path).glob(\"*.txt\"): #Here we have a loop that checks if the textfiles are present and correct.\n",
    "    with open(filename, \"r\", encoding=\"utf-8\") as file: \n",
    "        loaded_text = file.read()\n",
    "        word_count = loaded_text.split()\n",
    "        unique_words = set(word_count)\n",
    "        unique_count = len(unique_words)\n",
    "        #table.append(f\"{filename}, {len(word_count)}, {len(unique_words)}\")\n",
    "        print(table)\n",
    "        temp_df = ({'filename': filename, 'word_count': len(word_count), 'unique_words': unique_count})\n",
    "        # appending the temporary dataframe to the empty dataframe\n",
    "        table = table.append(temp_df, ignore_index=True)\n",
    "\n",
    "\n",
    "# by appending to the table we get the dataset of textfiles, the word count and the unique words in this. \n",
    "#In this code I tried to save it as a new file in the folder of 100 english novels, but could not make it work. \n",
    "#path2results = (\"..\", \"data\", \"100_english_novels\", \"word_count_df.csv\")\n",
    "# saving the dataframe as csv file\n",
    "#word_count_df.to_csv(path2results)        \n",
    "outpath = os.path.join(\"..\",\"output\",\"wordcount.csv\")\n",
    "table.to_csv(outpath)\n",
    "        \n"
   ]
  },
  {
   "cell_type": "code",
   "execution_count": null,
   "metadata": {},
   "outputs": [],
   "source": []
  }
 ],
 "metadata": {
  "kernelspec": {
   "display_name": "Python 3",
   "language": "python",
   "name": "python3"
  },
  "language_info": {
   "codemirror_mode": {
    "name": "ipython",
    "version": 3
   },
   "file_extension": ".py",
   "mimetype": "text/x-python",
   "name": "python",
   "nbconvert_exporter": "python",
   "pygments_lexer": "ipython3",
   "version": "3.6.9"
  }
 },
 "nbformat": 4,
 "nbformat_minor": 4
}
